{
  "nbformat": 4,
  "nbformat_minor": 0,
  "metadata": {
    "colab": {
      "provenance": []
    },
    "kernelspec": {
      "name": "python3",
      "display_name": "Python 3"
    },
    "language_info": {
      "name": "python"
    }
  },
  "cells": [
    {
      "cell_type": "markdown",
      "source": [
        "### Imports, Auth, and Config\n",
        "* Imports the necessary Python libraries  \n",
        "* Retrieves the GitHub API token from Colab's secret manager  \n",
        "* Sets Base URL and Headers  \n",
        "* Creates sample_data directory to store the output files\n"
      ],
      "metadata": {
        "id": "h9kvH8Db9FdK"
      }
    },
    {
      "cell_type": "code",
      "execution_count": null,
      "metadata": {
        "id": "MaSRHNoiskSy"
      },
      "outputs": [],
      "source": [
        "import time, math, json, pathlib, requests, pandas as pd\n",
        "from datetime import datetime\n",
        "from google.colab import userdata\n",
        "\n",
        "TOKEN = userdata.get('GH_TOKEN')\n",
        "if not TOKEN:\n",
        "  raise RuntimeError('Set Github Auth Token as GH_TOKEN via Colab Secrets before running')\n",
        "\n",
        "BASE = 'https://api.github.com'\n",
        "HEADERS = {\n",
        "    \"Authorization\": f\"Bearer {TOKEN}\",\n",
        "    \"Accept\":        \"application/vnd.github+json\",\n",
        "    \"X-GitHub-Api-Version\": \"2022-11-28\"\n",
        "}\n",
        "\n",
        "OUTPUT_DIR = pathlib.Path('sample_data')\n",
        "OUTPUT_DIR.mkdir(exist_ok=True)"
      ]
    },
    {
      "cell_type": "markdown",
      "source": [
        "### Core Data Extraction Function ('gh_get')  \n",
        "Reusable utility designed to handle all requests needed for this project, it supports:  \n",
        "* **Pagination:** Fetches multiple pages  \n",
        "* **Rate Limit Handling:** if the script hits a rate limit, this function will wait for the required reset period, and continue where it left off.  \n",
        "* **Error Retries**: It can handle temporary network or server errors by automatically retrying a failed request a few times with a delay.\n",
        "\n",
        "This function makes all the subsequent data-fetching calls much simpler and more reliable."
      ],
      "metadata": {
        "id": "IGXE-4ljAf_j"
      }
    },
    {
      "cell_type": "code",
      "source": [
        "def gh_get(\n",
        "    url,\n",
        "    *,\n",
        "    params=None,\n",
        "    per_page=100,\n",
        "    max_pages=10,\n",
        "    max_retries=3,\n",
        "    backoff_factor=2,\n",
        "    bar_desc='request'\n",
        "):\n",
        "    params = params or {}\n",
        "    params[\"per_page\"] = per_page\n",
        "    all_rows, page = [], 1\n",
        "\n",
        "    while True:\n",
        "        for attempt in range(1, max_retries+1):\n",
        "            try:\n",
        "                resp = requests.get(url, headers=HEADERS, params={**params, \"page\": page}, timeout=10)\n",
        "            except RequestException as e:\n",
        "                wait = backoff_factor ** (attempt - 1)\n",
        "                print(f\"Network error ({e}), retrying in {wait}s… (attempt {attempt}/{max_retries})\")\n",
        "                time.sleep(wait)\n",
        "                continue\n",
        "\n",
        "            # Rate-limit hit?\n",
        "            if resp.status_code == 403 and resp.headers.get(\"X-RateLimit-Remaining\") == \"0\":\n",
        "                reset = int(resp.headers.get(\"X-RateLimit-Reset\", time.time()+60))\n",
        "                wait = max(reset - time.time(), 1)\n",
        "                print(f\"Rate-limit reached, waiting {math.ceil(wait)}s\")\n",
        "                time.sleep(wait)\n",
        "                # after sleep, retry same page\n",
        "                continue\n",
        "\n",
        "            # Retry on 5xx\n",
        "            if 500 <= resp.status_code < 600:\n",
        "                wait = backoff_factor ** (attempt - 1)\n",
        "                print(f\"Server error {resp.status_code}, retrying in {wait}s…\")\n",
        "                time.sleep(wait)\n",
        "                continue\n",
        "\n",
        "            # Other statuses: break out of retry loop\n",
        "            break\n",
        "        else:\n",
        "            resp.raise_for_status()\n",
        "\n",
        "        #Auth/token issue\n",
        "        if resp.status_code == 401:\n",
        "            raise RuntimeError(\"Unauthorized: check your GH_TOKEN and its scopes\")\n",
        "\n",
        "        resp.raise_for_status()\n",
        "\n",
        "        try:\n",
        "            payload = resp.json()\n",
        "        except ValueError:\n",
        "            raise RuntimeError(\"Invalid JSON response\")\n",
        "\n",
        "        rows = payload.get(\"items\", payload) if isinstance(payload, dict) else payload\n",
        "        all_rows.extend(rows)\n",
        "\n",
        "        if len(rows) < per_page or page >= max_pages:\n",
        "            break\n",
        "\n",
        "        page += 1\n",
        "\n",
        "    print(f\"{bar_desc}: {len(all_rows)} rows\")\n",
        "    return all_rows"
      ],
      "metadata": {
        "id": "jlxB8nDX9DyO"
      },
      "execution_count": null,
      "outputs": []
    },
    {
      "cell_type": "markdown",
      "source": [
        "### Task 1 - Search Public Repositories\n",
        "\n",
        "This cell executes the first required task: searching for public repositories. It uses the `gh_get` function to query the `/search/repositories` endpoint.  \n",
        "The search looks for repositories related to \"marketing\", sorts them by the number of stars in descending order, and fetches the first 60 results (2 pages of 30). The final list of repositories is saved to `search_repos_sample.json`."
      ],
      "metadata": {
        "id": "LlKsFkaTD2mx"
      }
    },
    {
      "cell_type": "code",
      "source": [
        "search_params = {\n",
        "    \"q\": \"marketing\",\n",
        "    \"sort\": \"stars\",\n",
        "    \"order\": \"desc\",\n",
        "}\n",
        "repos = gh_get(\n",
        "    f\"{BASE}/search/repositories\",\n",
        "    params=search_params,\n",
        "    max_pages=2,\n",
        "    per_page=30,\n",
        "    bar_desc='search/repos')\n",
        "\n",
        "json.dump(repos, open(OUTPUT_DIR / \"search_repos_sample.json\", \"w\"), indent=4)\n"
      ],
      "metadata": {
        "colab": {
          "base_uri": "https://localhost:8080/"
        },
        "id": "OlCAVGiVDeAx",
        "outputId": "7a14cdcd-0440-48d5-ed40-dbeca85a57bc"
      },
      "execution_count": null,
      "outputs": [
        {
          "output_type": "stream",
          "name": "stdout",
          "text": [
            "search/repos: 60 rows\n"
          ]
        }
      ]
    },
    {
      "cell_type": "markdown",
      "source": [
        "### Task 2 - Fetch Commits for a Repository\n",
        "\n",
        "This cell handles the second task: fetching commit history. It uses `gh_get` to retrieve the 300 most recent commits (3 pages of 100). The data is then saved to `commits_sample.json`."
      ],
      "metadata": {
        "id": "DjAoukO1HlXV"
      }
    },
    {
      "cell_type": "code",
      "source": [
        "OWNER, REPO = 'microsoft', 'vscode'\n",
        "commits = gh_get(f'{BASE}/repos/{OWNER}/{REPO}/commits',\n",
        "                 max_pages=3)\n",
        "\n",
        "json.dump(commits, open(OUTPUT_DIR / 'commits_sample.json', 'w'), indent=4)"
      ],
      "metadata": {
        "colab": {
          "base_uri": "https://localhost:8080/"
        },
        "id": "s0cTUPu8EfZ9",
        "outputId": "a6756c8a-eb5a-4e05-8f69-c732d335ff1d"
      },
      "execution_count": null,
      "outputs": [
        {
          "output_type": "stream",
          "name": "stdout",
          "text": [
            "request: 300 rows\n"
          ]
        }
      ]
    },
    {
      "cell_type": "markdown",
      "source": [
        "### Task 3 - List Repository Contents\n",
        "\n",
        "This cell completes the third task: listing the contents of a repository. It gets the list of all files and folders in the root of the `pandas-dev/pandas` repository and saves the output to `contents_sample.json`."
      ],
      "metadata": {
        "id": "yrWu-VwIIJaR"
      }
    },
    {
      "cell_type": "code",
      "source": [
        "OWNER, REPO = 'pandas-dev', 'pandas'\n",
        "contents = gh_get(f\"{BASE}/repos/{OWNER}/{REPO}/contents\")\n",
        "\n",
        "json.dump(contents, open(OUTPUT_DIR / \"contents_sample.json\", \"w\"), indent=4)"
      ],
      "metadata": {
        "colab": {
          "base_uri": "https://localhost:8080/"
        },
        "id": "WFXPO1QaH4GX",
        "outputId": "9ba022fc-2f38-43e1-e450-45e212eff5d8"
      },
      "execution_count": null,
      "outputs": [
        {
          "output_type": "stream",
          "name": "stdout",
          "text": [
            "request: 31 rows\n"
          ]
        }
      ]
    },
    {
      "cell_type": "markdown",
      "source": [
        "### Just for fun\n",
        "\n",
        "The cell below grabs the hottest machine-learning repos created since June 2024, ranks them by **“⭐ per day”**, and displays the top 15."
      ],
      "metadata": {
        "id": "BVfUuDBDYRB1"
      }
    },
    {
      "cell_type": "code",
      "source": [
        "ml_repos = gh_get(\n",
        "    f\"{BASE}/search/repositories\",\n",
        "    params={\n",
        "        \"q\": \"topic:machine-learning created:>=2024-06-01\",\n",
        "        \"sort\": \"stars\",\n",
        "        \"order\": \"desc\"\n",
        "    },\n",
        "    per_page=100,\n",
        "    max_pages=1,\n",
        "    bar_desc=\"ml repos\"\n",
        ")\n",
        "\n",
        "df = (\n",
        "    pd.json_normalize(ml_repos)\n",
        "      .loc[:, [\"full_name\", \"stargazers_count\", \"created_at\", \"html_url\"]]\n",
        "      .head(15)\n",
        "      .copy()\n",
        ")\n",
        "\n",
        "df[\"created_at\"] = pd.to_datetime(df[\"created_at\"])\n",
        "days_live = (pd.Timestamp.utcnow() - df[\"created_at\"]).dt.days.clip(lower=1)\n",
        "df[\"⭐ per day\"] = (df[\"stargazers_count\"] / days_live).round(1)\n",
        "df[\"stargazers_count\"] = df[\"stargazers_count\"].apply(lambda x: f\"{x:,}\")\n",
        "df.sort_values(\"⭐ per day\", ascending=False, inplace=True)\n",
        "\n",
        "from IPython.display import display\n",
        "display(df.style.format({\"⭐ per day\": \"{:.1f}\"}).hide(axis=\"index\")\n",
        ")\n",
        "\n",
        "outfile = OUTPUT_DIR / \"ml_repos_sample.json\"\n",
        "df.to_json(outfile, orient=\"records\", indent=4, force_ascii=False)"
      ],
      "metadata": {
        "colab": {
          "base_uri": "https://localhost:8080/",
          "height": 538
        },
        "id": "9K8ayo5XYTvS",
        "outputId": "5ee1ffe7-1f21-461a-bda6-5ef93b8f6e66"
      },
      "execution_count": 39,
      "outputs": [
        {
          "output_type": "stream",
          "name": "stdout",
          "text": [
            "ml repos: 100 rows\n"
          ]
        },
        {
          "output_type": "display_data",
          "data": {
            "text/plain": [
              "<pandas.io.formats.style.Styler at 0x7880ea312950>"
            ],
            "text/html": [
              "<style type=\"text/css\">\n",
              "</style>\n",
              "<table id=\"T_c1572\" class=\"dataframe\">\n",
              "  <thead>\n",
              "    <tr>\n",
              "      <th id=\"T_c1572_level0_col0\" class=\"col_heading level0 col0\" >full_name</th>\n",
              "      <th id=\"T_c1572_level0_col1\" class=\"col_heading level0 col1\" >stargazers_count</th>\n",
              "      <th id=\"T_c1572_level0_col2\" class=\"col_heading level0 col2\" >created_at</th>\n",
              "      <th id=\"T_c1572_level0_col3\" class=\"col_heading level0 col3\" >html_url</th>\n",
              "      <th id=\"T_c1572_level0_col4\" class=\"col_heading level0 col4\" >⭐ per day</th>\n",
              "    </tr>\n",
              "  </thead>\n",
              "  <tbody>\n",
              "    <tr>\n",
              "      <td id=\"T_c1572_row0_col0\" class=\"data row0 col0\" >Olow304/memvid</td>\n",
              "      <td id=\"T_c1572_row0_col1\" class=\"data row0 col1\" >7,563</td>\n",
              "      <td id=\"T_c1572_row0_col2\" class=\"data row0 col2\" >2025-05-27 16:01:08+00:00</td>\n",
              "      <td id=\"T_c1572_row0_col3\" class=\"data row0 col3\" >https://github.com/Olow304/memvid</td>\n",
              "      <td id=\"T_c1572_row0_col4\" class=\"data row0 col4\" >504.2</td>\n",
              "    </tr>\n",
              "    <tr>\n",
              "      <td id=\"T_c1572_row1_col0\" class=\"data row1 col0\" >mediar-ai/screenpipe</td>\n",
              "      <td id=\"T_c1572_row1_col1\" class=\"data row1 col1\" >14,994</td>\n",
              "      <td id=\"T_c1572_row1_col2\" class=\"data row1 col2\" >2024-06-19 13:23:56+00:00</td>\n",
              "      <td id=\"T_c1572_row1_col3\" class=\"data row1 col3\" >https://github.com/mediar-ai/screenpipe</td>\n",
              "      <td id=\"T_c1572_row1_col4\" class=\"data row1 col4\" >42.0</td>\n",
              "    </tr>\n",
              "    <tr>\n",
              "      <td id=\"T_c1572_row2_col0\" class=\"data row2 col0\" >patchy631/ai-engineering-hub</td>\n",
              "      <td id=\"T_c1572_row2_col1\" class=\"data row2 col1\" >9,695</td>\n",
              "      <td id=\"T_c1572_row2_col2\" class=\"data row2 col2\" >2024-10-21 10:43:24+00:00</td>\n",
              "      <td id=\"T_c1572_row2_col3\" class=\"data row2 col3\" >https://github.com/patchy631/ai-engineering-hub</td>\n",
              "      <td id=\"T_c1572_row2_col4\" class=\"data row2 col4\" >41.6</td>\n",
              "    </tr>\n",
              "    <tr>\n",
              "      <td id=\"T_c1572_row3_col0\" class=\"data row3 col0\" >armankhondker/awesome-ai-ml-resources</td>\n",
              "      <td id=\"T_c1572_row3_col1\" class=\"data row3 col1\" >3,294</td>\n",
              "      <td id=\"T_c1572_row3_col2\" class=\"data row3 col2\" >2025-02-09 00:12:17+00:00</td>\n",
              "      <td id=\"T_c1572_row3_col3\" class=\"data row3 col3\" >https://github.com/armankhondker/awesome-ai-ml-resources</td>\n",
              "      <td id=\"T_c1572_row3_col4\" class=\"data row3 col4\" >27.0</td>\n",
              "    </tr>\n",
              "    <tr>\n",
              "      <td id=\"T_c1572_row4_col0\" class=\"data row4 col0\" >roboflow/rf-detr</td>\n",
              "      <td id=\"T_c1572_row4_col1\" class=\"data row4 col1\" >2,228</td>\n",
              "      <td id=\"T_c1572_row4_col2\" class=\"data row4 col2\" >2025-03-19 20:43:00+00:00</td>\n",
              "      <td id=\"T_c1572_row4_col3\" class=\"data row4 col3\" >https://github.com/roboflow/rf-detr</td>\n",
              "      <td id=\"T_c1572_row4_col4\" class=\"data row4 col4\" >26.8</td>\n",
              "    </tr>\n",
              "    <tr>\n",
              "      <td id=\"T_c1572_row5_col0\" class=\"data row5 col0\" >tensorzero/tensorzero</td>\n",
              "      <td id=\"T_c1572_row5_col1\" class=\"data row5 col1\" >6,586</td>\n",
              "      <td id=\"T_c1572_row5_col2\" class=\"data row5 col2\" >2024-07-16 21:00:53+00:00</td>\n",
              "      <td id=\"T_c1572_row5_col3\" class=\"data row5 col3\" >https://github.com/tensorzero/tensorzero</td>\n",
              "      <td id=\"T_c1572_row5_col4\" class=\"data row5 col4\" >20.0</td>\n",
              "    </tr>\n",
              "    <tr>\n",
              "      <td id=\"T_c1572_row6_col0\" class=\"data row6 col0\" >awslabs/agent-squad</td>\n",
              "      <td id=\"T_c1572_row6_col1\" class=\"data row6 col1\" >6,012</td>\n",
              "      <td id=\"T_c1572_row6_col2\" class=\"data row6 col2\" >2024-07-23 12:48:30+00:00</td>\n",
              "      <td id=\"T_c1572_row6_col3\" class=\"data row6 col3\" >https://github.com/awslabs/agent-squad</td>\n",
              "      <td id=\"T_c1572_row6_col4\" class=\"data row6 col4\" >18.6</td>\n",
              "    </tr>\n",
              "    <tr>\n",
              "      <td id=\"T_c1572_row7_col0\" class=\"data row7 col0\" >BragAI/bRAG-langchain</td>\n",
              "      <td id=\"T_c1572_row7_col1\" class=\"data row7 col1\" >2,898</td>\n",
              "      <td id=\"T_c1572_row7_col2\" class=\"data row7 col2\" >2024-11-16 07:41:36+00:00</td>\n",
              "      <td id=\"T_c1572_row7_col3\" class=\"data row7 col3\" >https://github.com/BragAI/bRAG-langchain</td>\n",
              "      <td id=\"T_c1572_row7_col4\" class=\"data row7 col4\" >14.0</td>\n",
              "    </tr>\n",
              "    <tr>\n",
              "      <td id=\"T_c1572_row8_col0\" class=\"data row8 col0\" >huggingface/speech-to-speech</td>\n",
              "      <td id=\"T_c1572_row8_col1\" class=\"data row8 col1\" >4,056</td>\n",
              "      <td id=\"T_c1572_row8_col2\" class=\"data row8 col2\" >2024-08-07 15:32:09+00:00</td>\n",
              "      <td id=\"T_c1572_row8_col3\" class=\"data row8 col3\" >https://github.com/huggingface/speech-to-speech</td>\n",
              "      <td id=\"T_c1572_row8_col4\" class=\"data row8 col4\" >13.2</td>\n",
              "    </tr>\n",
              "    <tr>\n",
              "      <td id=\"T_c1572_row9_col0\" class=\"data row9 col0\" >plexe-ai/plexe</td>\n",
              "      <td id=\"T_c1572_row9_col1\" class=\"data row9 col1\" >1,953</td>\n",
              "      <td id=\"T_c1572_row9_col2\" class=\"data row9 col2\" >2025-01-05 18:34:25+00:00</td>\n",
              "      <td id=\"T_c1572_row9_col3\" class=\"data row9 col3\" >https://github.com/plexe-ai/plexe</td>\n",
              "      <td id=\"T_c1572_row9_col4\" class=\"data row9 col4\" >12.4</td>\n",
              "    </tr>\n",
              "    <tr>\n",
              "      <td id=\"T_c1572_row10_col0\" class=\"data row10 col0\" >Kiln-AI/Kiln</td>\n",
              "      <td id=\"T_c1572_row10_col1\" class=\"data row10 col1\" >3,706</td>\n",
              "      <td id=\"T_c1572_row10_col2\" class=\"data row10 col2\" >2024-07-23 23:10:13+00:00</td>\n",
              "      <td id=\"T_c1572_row10_col3\" class=\"data row10 col3\" >https://github.com/Kiln-AI/Kiln</td>\n",
              "      <td id=\"T_c1572_row10_col4\" class=\"data row10 col4\" >11.5</td>\n",
              "    </tr>\n",
              "    <tr>\n",
              "      <td id=\"T_c1572_row11_col0\" class=\"data row11 col0\" >business-science/ai-data-science-team</td>\n",
              "      <td id=\"T_c1572_row11_col1\" class=\"data row11 col1\" >2,101</td>\n",
              "      <td id=\"T_c1572_row11_col2\" class=\"data row11 col2\" >2024-12-11 16:07:45+00:00</td>\n",
              "      <td id=\"T_c1572_row11_col3\" class=\"data row11 col3\" >https://github.com/business-science/ai-data-science-team</td>\n",
              "      <td id=\"T_c1572_row11_col4\" class=\"data row11 col4\" >11.5</td>\n",
              "    </tr>\n",
              "    <tr>\n",
              "      <td id=\"T_c1572_row12_col0\" class=\"data row12 col0\" >mcmonkeyprojects/SwarmUI</td>\n",
              "      <td id=\"T_c1572_row12_col1\" class=\"data row12 col1\" >2,648</td>\n",
              "      <td id=\"T_c1572_row12_col2\" class=\"data row12 col2\" >2024-06-21 06:24:53+00:00</td>\n",
              "      <td id=\"T_c1572_row12_col3\" class=\"data row12 col3\" >https://github.com/mcmonkeyprojects/SwarmUI</td>\n",
              "      <td id=\"T_c1572_row12_col4\" class=\"data row12 col4\" >7.5</td>\n",
              "    </tr>\n",
              "    <tr>\n",
              "      <td id=\"T_c1572_row13_col0\" class=\"data row13 col0\" >iterative/datachain</td>\n",
              "      <td id=\"T_c1572_row13_col1\" class=\"data row13 col1\" >2,580</td>\n",
              "      <td id=\"T_c1572_row13_col2\" class=\"data row13 col2\" >2024-06-25 22:29:35+00:00</td>\n",
              "      <td id=\"T_c1572_row13_col3\" class=\"data row13 col3\" >https://github.com/iterative/datachain</td>\n",
              "      <td id=\"T_c1572_row13_col4\" class=\"data row13 col4\" >7.4</td>\n",
              "    </tr>\n",
              "    <tr>\n",
              "      <td id=\"T_c1572_row14_col0\" class=\"data row14 col0\" >ozgrozer/ai-renamer</td>\n",
              "      <td id=\"T_c1572_row14_col1\" class=\"data row14 col1\" >1,863</td>\n",
              "      <td id=\"T_c1572_row14_col2\" class=\"data row14 col2\" >2024-07-07 10:44:27+00:00</td>\n",
              "      <td id=\"T_c1572_row14_col3\" class=\"data row14 col3\" >https://github.com/ozgrozer/ai-renamer</td>\n",
              "      <td id=\"T_c1572_row14_col4\" class=\"data row14 col4\" >5.5</td>\n",
              "    </tr>\n",
              "  </tbody>\n",
              "</table>\n"
            ]
          },
          "metadata": {}
        }
      ]
    }
  ]
}